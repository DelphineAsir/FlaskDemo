{
 "cells": [
  {
   "cell_type": "code",
   "execution_count": 1,
   "metadata": {},
   "outputs": [
    {
     "name": "stdout",
     "output_type": "stream",
     "text": [
      "Python 3.10.11\n"
     ]
    }
   ],
   "source": [
    "!python --version\n"
   ]
  },
  {
   "cell_type": "code",
   "execution_count": 2,
   "metadata": {},
   "outputs": [
    {
     "name": "stdout",
     "output_type": "stream",
     "text": [
      "conda 24.5.0\n"
     ]
    }
   ],
   "source": [
    "!conda --version"
   ]
  },
  {
   "cell_type": "code",
   "execution_count": 1,
   "metadata": {},
   "outputs": [
    {
     "name": "stdout",
     "output_type": "stream",
     "text": [
      "Writing requirements.txt\n"
     ]
    }
   ],
   "source": [
    "%%writefile requirements.txt\n",
    "aniso8601==9.0.1\n",
    "argon2-cffi==21.3.0\n",
    "argon2-cffi-bindings==21.2.0\n",
    "async-generator==1.10\n",
    "attrs==22.1.0\n",
    "backcall==0.2.0\n",
    "bleach==4.1.0\n",
    "certifi==2022.9.24\n",
    "cffi==1.15.1\n",
    "charset-normalizer==2.0.12\n",
    "click==8.0.4\n",
    "dataclasses==0.8\n",
    "decorator==5.1.1\n",
    "defusedxml==0.7.1\n",
    "entrypoints==0.4\n",
    "Flask==2.0.3\n",
    "Flask-RESTful==0.3.9\n",
    "idna==3.4\n",
    "importlib-metadata==4.8.3\n",
    "ipykernel==5.5.6\n",
    "ipython==7.16.3\n",
    "ipython-genutils==0.2.0\n",
    "ipywidgets==7.7.2\n",
    "itsdangerous==2.0.1\n",
    "jedi==0.17.2\n",
    "Jinja2==3.0.3\n",
    "joblib==1.1.1\n",
    "jsonschema==3.2.0\n",
    "jupyter==1.0.0\n",
    "jupyter-client==7.1.2\n",
    "jupyter-console==6.4.3\n",
    "jupyter-core==4.9.2\n",
    "jupyterlab-pygments==0.1.2\n",
    "jupyterlab-widgets==1.1.1\n",
    "MarkupSafe==2.0.1\n",
    "mistune==0.8.4\n",
    "nbclient==0.5.9\n",
    "nbconvert==6.0.7\n",
    "nbformat==5.1.3\n",
    "nest-asyncio==1.5.6\n",
    "notebook==6.4.10\n",
    "numpy==1.19.5\n",
    "packaging==21.3\n",
    "pandocfilters==1.5.0\n",
    "parso==0.7.1\n",
    "pexpect==4.8.0\n",
    "pickleshare==0.7.5\n",
    "prometheus-client==0.14.1\n",
    "prompt-toolkit==3.0.31\n",
    "ptyprocess==0.7.0\n",
    "pycparser==2.21\n",
    "Pygments==2.13.0\n",
    "pyparsing==3.0.9\n",
    "pyrsistent==0.18.0\n",
    "python-dateutil==2.8.2\n",
    "pytz==2022.4\n",
    "pyzmq==24.0.1\n",
    "qtconsole==5.2.2\n",
    "QtPy==2.0.1\n",
    "requests==2.27.1\n",
    "scikit-learn==0.24.2\n",
    "scipy==1.5.4\n",
    "Send2Trash==1.8.0\n",
    "six==1.16.0\n",
    "terminado==0.12.1\n",
    "testpath==0.6.0\n",
    "threadpoolctl==3.1.0\n",
    "tornado==6.1\n",
    "traitlets==4.3.3\n",
    "typing_extensions==4.1.1\n",
    "urllib3==1.26.12\n",
    "wcwidth==0.2.5\n",
    "webencodings==0.5.1\n",
    "Werkzeug==2.0.3\n",
    "widgetsnbextension==3.6.1\n",
    "zipp==3.6.0\n",
    "\n"
   ]
  },
  {
   "cell_type": "code",
   "execution_count": null,
   "metadata": {},
   "outputs": [],
   "source": []
  }
 ],
 "metadata": {
  "kernelspec": {
   "display_name": "Python 3",
   "language": "python",
   "name": "python3"
  },
  "language_info": {
   "codemirror_mode": {
    "name": "ipython",
    "version": 3
   },
   "file_extension": ".py",
   "mimetype": "text/x-python",
   "name": "python",
   "nbconvert_exporter": "python",
   "pygments_lexer": "ipython3",
   "version": "3.10.11"
  }
 },
 "nbformat": 4,
 "nbformat_minor": 2
}
